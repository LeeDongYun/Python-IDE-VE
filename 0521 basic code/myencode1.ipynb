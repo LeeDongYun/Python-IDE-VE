{
 "cells": [
  {
   "cell_type": "code",
   "execution_count": 1,
   "metadata": {},
   "outputs": [
    {
     "name": "stdout",
     "output_type": "stream",
     "text": [
      "Programming is an Art!\n"
     ]
    }
   ],
   "source": [
    "s = 'Programming is an Art!'\n",
    "print(s)"
   ]
  },
  {
   "cell_type": "code",
   "execution_count": 2,
   "metadata": {},
   "outputs": [
    {
     "name": "stdout",
     "output_type": "stream",
     "text": [
      "Uwtlwfrrnsl%nx%fs%Fwy&\n"
     ]
    }
   ],
   "source": [
    "# 문자에 각각 5를 더하여 문자열을 출력\n",
    "key = 5\n",
    "for c in s:\n",
    "    print(chr(ord(c) + key), end='')\n",
    "print()"
   ]
  },
  {
   "cell_type": "code",
   "execution_count": 3,
   "metadata": {},
   "outputs": [
    {
     "name": "stdout",
     "output_type": "stream",
     "text": [
      "[0, 1, 2, 3, 4, 5, 6, 7, 8, 9]\n",
      "['a', 'b', 'c', 'd', 'e', 'f', 'g', 'h', 'i', 'j', 'k', 'l', 'm', 'n', 'o', 'p', 'q', 'r', 's', 't', 'u', 'v', 'w', 'x', 'y', 'z']\n"
     ]
    }
   ],
   "source": [
    "# 컴프리헨션 이해\n",
    "print([i for i in range(10)])\n",
    "print([chr(i) for i in range(ord('a'), ord('a') + 26)])"
   ]
  },
  {
   "cell_type": "code",
   "execution_count": 4,
   "metadata": {},
   "outputs": [
    {
     "name": "stdout",
     "output_type": "stream",
     "text": [
      "['U', 'w', 't', 'l', 'w', 'f', 'r', 'r', 'n', 's', 'l', '%', 'n', 'x', '%', 'f', 's', '%', 'F', 'w', 'y', '&']\n"
     ]
    }
   ],
   "source": [
    "# 문자에 각각 5를 더한 문자 리스트를 출력\n",
    "t = [chr(ord(c) + key) for c in s]\n",
    "print(t)"
   ]
  },
  {
   "cell_type": "code",
   "execution_count": 5,
   "metadata": {},
   "outputs": [
    {
     "name": "stdout",
     "output_type": "stream",
     "text": [
      "python\n",
      "python\n",
      "p-y-t-h-o-n\n"
     ]
    }
   ],
   "source": [
    "# 문자열 str.join() 함수 이해\n",
    "print(''.join('python'))\n",
    "print(''.join(list('python')))\n",
    "print('-'.join(list('python')))"
   ]
  },
  {
   "cell_type": "code",
   "execution_count": 6,
   "metadata": {},
   "outputs": [
    {
     "name": "stdout",
     "output_type": "stream",
     "text": [
      "Uwtlwfrrnsl%nx%fs%Fwy&\n"
     ]
    }
   ],
   "source": [
    "# 문자에 각각 5를 더한 문자열 출력\n",
    "e = '';\n",
    "e = e.join([chr(ord(c) + key) for c in s])\n",
    "print(e)"
   ]
  },
  {
   "cell_type": "code",
   "execution_count": 7,
   "metadata": {},
   "outputs": [
    {
     "name": "stdout",
     "output_type": "stream",
     "text": [
      "Uwtlwfrrnsl%nx%fs%Fwy&\n"
     ]
    }
   ],
   "source": [
    "# 문자에 각각 5를 더한 문자열을 한 줄에 출력\n",
    "print(''.join([chr(ord(c) + key) for c in s]))"
   ]
  },
  {
   "cell_type": "code",
   "execution_count": 9,
   "metadata": {},
   "outputs": [
    {
     "data": {
      "text/plain": [
       "'Uwtlwfrrnsl%nx%fs%Fwy&'"
      ]
     },
     "execution_count": 9,
     "metadata": {},
     "output_type": "execute_result"
    }
   ],
   "source": [
    "e = '';\n",
    "e = e.join([chr(ord(c) + key) for c in s])\n",
    "e"
   ]
  },
  {
   "cell_type": "code",
   "execution_count": 10,
   "metadata": {},
   "outputs": [
    {
     "name": "stdout",
     "output_type": "stream",
     "text": [
      "Programming is an Art!\n"
     ]
    }
   ],
   "source": [
    "# 비뀐 문자열을 다시 반대로 문자에 각각 5를 뺀 문자열을 한 줄에 출력\n",
    "key = -key\n",
    "print(''.join([chr(ord(c) + key) for c in e]))"
   ]
  },
  {
   "cell_type": "code",
   "execution_count": null,
   "metadata": {},
   "outputs": [],
   "source": []
  }
 ],
 "metadata": {
  "kernelspec": {
   "display_name": "Python 3",
   "language": "python",
   "name": "python3"
  },
  "language_info": {
   "codemirror_mode": {
    "name": "ipython",
    "version": 3
   },
   "file_extension": ".py",
   "mimetype": "text/x-python",
   "name": "python",
   "nbconvert_exporter": "python",
   "pygments_lexer": "ipython3",
   "version": "3.7.6"
  }
 },
 "nbformat": 4,
 "nbformat_minor": 4
}
