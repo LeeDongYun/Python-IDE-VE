{
 "cells": [
  {
   "cell_type": "markdown",
   "metadata": {},
   "source": [
    "# 컴프리헨션"
   ]
  },
  {
   "cell_type": "markdown",
   "metadata": {},
   "source": [
    "## https://wikidocs.net/22805"
   ]
  },
  {
   "cell_type": "markdown",
   "metadata": {},
   "source": [
    "* 리스트 컴프리헨션"
   ]
  },
  {
   "cell_type": "code",
   "execution_count": 1,
   "metadata": {},
   "outputs": [],
   "source": [
    "numbers = []\n",
    "for n in range(1, 10+1):\n",
    "    numbers.append(n)"
   ]
  },
  {
   "cell_type": "code",
   "execution_count": 2,
   "metadata": {},
   "outputs": [
    {
     "data": {
      "text/plain": [
       "[0, 1, 2, 3, 4, 5, 6, 7, 8, 9]"
      ]
     },
     "execution_count": 2,
     "metadata": {},
     "output_type": "execute_result"
    }
   ],
   "source": [
    "[x for x in range(10)]"
   ]
  },
  {
   "cell_type": "code",
   "execution_count": 3,
   "metadata": {},
   "outputs": [
    {
     "data": {
      "text/plain": [
       "[0, 2, 4, 6, 8, 10, 12, 14, 16, 18]"
      ]
     },
     "execution_count": 3,
     "metadata": {},
     "output_type": "execute_result"
    }
   ],
   "source": [
    "[2*x for x in range(10)]"
   ]
  },
  {
   "cell_type": "code",
   "execution_count": 4,
   "metadata": {},
   "outputs": [
    {
     "data": {
      "text/plain": [
       "[2, 4, 6, 8, 10, 12, 14, 16, 18, 20]"
      ]
     },
     "execution_count": 4,
     "metadata": {},
     "output_type": "execute_result"
    }
   ],
   "source": [
    "[ 2*x for x in range(1, 10+1) ]"
   ]
  },
  {
   "cell_type": "code",
   "execution_count": 5,
   "metadata": {},
   "outputs": [],
   "source": [
    "even_numbers = []\n",
    "for n in range(1, 10+1):\n",
    "    if n % 2 == 0:\n",
    "        even_numbers.append(n)"
   ]
  },
  {
   "cell_type": "code",
   "execution_count": 6,
   "metadata": {},
   "outputs": [
    {
     "data": {
      "text/plain": [
       "[2, 4, 6, 8, 10]"
      ]
     },
     "execution_count": 6,
     "metadata": {},
     "output_type": "execute_result"
    }
   ],
   "source": [
    "even_numbers"
   ]
  },
  {
   "cell_type": "code",
   "execution_count": 7,
   "metadata": {},
   "outputs": [
    {
     "data": {
      "text/plain": [
       "[2, 4, 6, 8, 10]"
      ]
     },
     "execution_count": 7,
     "metadata": {},
     "output_type": "execute_result"
    }
   ],
   "source": [
    "[x for x in range(1, 10+1) if x % 2 == 0]"
   ]
  },
  {
   "cell_type": "markdown",
   "metadata": {},
   "source": [
    "* 중복 표현\n",
    "    * 컴프리헨션은 내부에서 for 키워드와 if키워드를 몇번이고 반복"
   ]
  },
  {
   "cell_type": "code",
   "execution_count": 8,
   "metadata": {},
   "outputs": [
    {
     "data": {
      "text/plain": [
       "[('쌈밥', '사과'),\n",
       " ('쌈밥', '아이스크림'),\n",
       " ('쌈밥', '커피'),\n",
       " ('치킨', '사과'),\n",
       " ('치킨', '아이스크림'),\n",
       " ('치킨', '커피'),\n",
       " ('피자', '사과'),\n",
       " ('피자', '아이스크림'),\n",
       " ('피자', '커피')]"
      ]
     },
     "execution_count": 8,
     "metadata": {},
     "output_type": "execute_result"
    }
   ],
   "source": [
    "[(x, y) for x in ['쌈밥', '치킨', '피자'] for y in ['사과', '아이스크림', '커피']]"
   ]
  },
  {
   "cell_type": "code",
   "execution_count": 9,
   "metadata": {
    "scrolled": true
   },
   "outputs": [
    {
     "data": {
      "text/plain": [
       "[('사과', '쌈밥'),\n",
       " ('아이스크림', '쌈밥'),\n",
       " ('커피', '쌈밥'),\n",
       " ('사과', '치킨'),\n",
       " ('아이스크림', '치킨'),\n",
       " ('커피', '치킨'),\n",
       " ('사과', '피자'),\n",
       " ('아이스크림', '피자'),\n",
       " ('커피', '피자')]"
      ]
     },
     "execution_count": 9,
     "metadata": {},
     "output_type": "execute_result"
    }
   ],
   "source": [
    "[(y, x) for x in ['쌈밥', '치킨', '피자'] for y in ['사과', '아이스크림', '커피']]"
   ]
  },
  {
   "cell_type": "code",
   "execution_count": 10,
   "metadata": {
    "scrolled": true
   },
   "outputs": [
    {
     "data": {
      "text/plain": [
       "[('사과', '쌈밥'),\n",
       " ('사과', '치킨'),\n",
       " ('사과', '피자'),\n",
       " ('아이스크림', '쌈밥'),\n",
       " ('아이스크림', '치킨'),\n",
       " ('아이스크림', '피자'),\n",
       " ('커피', '쌈밥'),\n",
       " ('커피', '치킨'),\n",
       " ('커피', '피자')]"
      ]
     },
     "execution_count": 10,
     "metadata": {},
     "output_type": "execute_result"
    }
   ],
   "source": [
    "[(y, x) for y in ['사과', '아이스크림', '커피'] for x in ['쌈밥', '치킨', '피자']]"
   ]
  },
  {
   "cell_type": "code",
   "execution_count": 11,
   "metadata": {},
   "outputs": [
    {
     "data": {
      "text/plain": [
       "[('쌈밥', '배달 시키기', '사과'),\n",
       " ('쌈밥', '가서 먹기', '사과'),\n",
       " ('쌈밥', '배달 시키기', '아이스크림'),\n",
       " ('쌈밥', '가서 먹기', '아이스크림'),\n",
       " ('쌈밥', '배달 시키기', '커피'),\n",
       " ('쌈밥', '가서 먹기', '커피'),\n",
       " ('치킨', '배달 시키기', '사과'),\n",
       " ('치킨', '가서 먹기', '사과'),\n",
       " ('치킨', '배달 시키기', '아이스크림'),\n",
       " ('치킨', '가서 먹기', '아이스크림'),\n",
       " ('치킨', '배달 시키기', '커피'),\n",
       " ('치킨', '가서 먹기', '커피'),\n",
       " ('피자', '배달 시키기', '사과'),\n",
       " ('피자', '가서 먹기', '사과'),\n",
       " ('피자', '배달 시키기', '아이스크림'),\n",
       " ('피자', '가서 먹기', '아이스크림'),\n",
       " ('피자', '배달 시키기', '커피'),\n",
       " ('피자', '가서 먹기', '커피')]"
      ]
     },
     "execution_count": 11,
     "metadata": {},
     "output_type": "execute_result"
    }
   ],
   "source": [
    "[(x, z, y) for x in ['쌈밥', '치킨', '피자']\n",
    "           for y in ['사과', '아이스크림', '커피']\n",
    "           for z in ['배달 시키기', '가서 먹기']]"
   ]
  },
  {
   "cell_type": "code",
   "execution_count": 12,
   "metadata": {},
   "outputs": [
    {
     "name": "stdout",
     "output_type": "stream",
     "text": [
      "쌈밥 배달 시키기 사과\n",
      "쌈밥 가서 먹기 사과\n",
      "쌈밥 배달 시키기 아이스크림\n",
      "쌈밥 가서 먹기 아이스크림\n",
      "쌈밥 배달 시키기 커피\n",
      "쌈밥 가서 먹기 커피\n",
      "치킨 배달 시키기 사과\n",
      "치킨 가서 먹기 사과\n",
      "치킨 배달 시키기 아이스크림\n",
      "치킨 가서 먹기 아이스크림\n",
      "치킨 배달 시키기 커피\n",
      "치킨 가서 먹기 커피\n",
      "피자 배달 시키기 사과\n",
      "피자 가서 먹기 사과\n",
      "피자 배달 시키기 아이스크림\n",
      "피자 가서 먹기 아이스크림\n",
      "피자 배달 시키기 커피\n",
      "피자 가서 먹기 커피\n"
     ]
    }
   ],
   "source": [
    "for x in ['쌈밥', '치킨', '피자']:\n",
    "    for y in ['사과', '아이스크림', '커피']:\n",
    "        for z in ['배달 시키기', '가서 먹기']:\n",
    "            print(x, z, y)"
   ]
  },
  {
   "cell_type": "markdown",
   "metadata": {},
   "source": [
    "* 여러 조건"
   ]
  },
  {
   "cell_type": "code",
   "execution_count": 13,
   "metadata": {},
   "outputs": [
    {
     "data": {
      "text/plain": [
       "[0, 2, 4]"
      ]
     },
     "execution_count": 13,
     "metadata": {},
     "output_type": "execute_result"
    }
   ],
   "source": [
    "[x for x in range(10) if x < 5 if x % 2 == 0 ]"
   ]
  },
  {
   "cell_type": "code",
   "execution_count": 14,
   "metadata": {},
   "outputs": [
    {
     "data": {
      "text/plain": [
       "[0, 2, 4]"
      ]
     },
     "execution_count": 14,
     "metadata": {},
     "output_type": "execute_result"
    }
   ],
   "source": [
    "[x for x in range(10) if x < 5 and x % 2 == 0 ]"
   ]
  },
  {
   "cell_type": "markdown",
   "metadata": {},
   "source": [
    "* 구구단"
   ]
  },
  {
   "cell_type": "code",
   "execution_count": 15,
   "metadata": {},
   "outputs": [
    {
     "name": "stdout",
     "output_type": "stream",
     "text": [
      "2 * 1 = 2 2 * 2 = 4 2 * 3 = 6 2 * 4 = 8 2 * 5 = 10 2 * 6 = 12 2 * 7 = 14 2 * 8 = 16 2 * 9 = 18 \n",
      "3 * 1 = 3 3 * 2 = 6 3 * 3 = 9 3 * 4 = 12 3 * 5 = 15 3 * 6 = 18 3 * 7 = 21 3 * 8 = 24 3 * 9 = 27 \n",
      "4 * 1 = 4 4 * 2 = 8 4 * 3 = 12 4 * 4 = 16 4 * 5 = 20 4 * 6 = 24 4 * 7 = 28 4 * 8 = 32 4 * 9 = 36 \n",
      "5 * 1 = 5 5 * 2 = 10 5 * 3 = 15 5 * 4 = 20 5 * 5 = 25 5 * 6 = 30 5 * 7 = 35 5 * 8 = 40 5 * 9 = 45 \n",
      "6 * 1 = 6 6 * 2 = 12 6 * 3 = 18 6 * 4 = 24 6 * 5 = 30 6 * 6 = 36 6 * 7 = 42 6 * 8 = 48 6 * 9 = 54 \n",
      "7 * 1 = 7 7 * 2 = 14 7 * 3 = 21 7 * 4 = 28 7 * 5 = 35 7 * 6 = 42 7 * 7 = 49 7 * 8 = 56 7 * 9 = 63 \n",
      "8 * 1 = 8 8 * 2 = 16 8 * 3 = 24 8 * 4 = 32 8 * 5 = 40 8 * 6 = 48 8 * 7 = 56 8 * 8 = 64 8 * 9 = 72 \n",
      "9 * 1 = 9 9 * 2 = 18 9 * 3 = 27 9 * 4 = 36 9 * 5 = 45 9 * 6 = 54 9 * 7 = 63 9 * 8 = 72 9 * 9 = 81 \n"
     ]
    }
   ],
   "source": [
    "for x in range(2, 10):\n",
    "    for y in range(1, 10):\n",
    "        print(x, '*', y, '=', x * y, end = ' ')\n",
    "    print()"
   ]
  },
  {
   "cell_type": "code",
   "execution_count": 16,
   "metadata": {},
   "outputs": [
    {
     "data": {
      "text/plain": [
       "[(2, 1, 2),\n",
       " (2, 2, 4),\n",
       " (2, 3, 6),\n",
       " (2, 4, 8),\n",
       " (2, 5, 10),\n",
       " (2, 6, 12),\n",
       " (2, 7, 14),\n",
       " (2, 8, 16),\n",
       " (2, 9, 18),\n",
       " (3, 1, 3),\n",
       " (3, 2, 6),\n",
       " (3, 3, 9),\n",
       " (3, 4, 12),\n",
       " (3, 5, 15),\n",
       " (3, 6, 18),\n",
       " (3, 7, 21),\n",
       " (3, 8, 24),\n",
       " (3, 9, 27),\n",
       " (4, 1, 4),\n",
       " (4, 2, 8),\n",
       " (4, 3, 12),\n",
       " (4, 4, 16),\n",
       " (4, 5, 20),\n",
       " (4, 6, 24),\n",
       " (4, 7, 28),\n",
       " (4, 8, 32),\n",
       " (4, 9, 36),\n",
       " (5, 1, 5),\n",
       " (5, 2, 10),\n",
       " (5, 3, 15),\n",
       " (5, 4, 20),\n",
       " (5, 5, 25),\n",
       " (5, 6, 30),\n",
       " (5, 7, 35),\n",
       " (5, 8, 40),\n",
       " (5, 9, 45),\n",
       " (6, 1, 6),\n",
       " (6, 2, 12),\n",
       " (6, 3, 18),\n",
       " (6, 4, 24),\n",
       " (6, 5, 30),\n",
       " (6, 6, 36),\n",
       " (6, 7, 42),\n",
       " (6, 8, 48),\n",
       " (6, 9, 54),\n",
       " (7, 1, 7),\n",
       " (7, 2, 14),\n",
       " (7, 3, 21),\n",
       " (7, 4, 28),\n",
       " (7, 5, 35),\n",
       " (7, 6, 42),\n",
       " (7, 7, 49),\n",
       " (7, 8, 56),\n",
       " (7, 9, 63),\n",
       " (8, 1, 8),\n",
       " (8, 2, 16),\n",
       " (8, 3, 24),\n",
       " (8, 4, 32),\n",
       " (8, 5, 40),\n",
       " (8, 6, 48),\n",
       " (8, 7, 56),\n",
       " (8, 8, 64),\n",
       " (8, 9, 72),\n",
       " (9, 1, 9),\n",
       " (9, 2, 18),\n",
       " (9, 3, 27),\n",
       " (9, 4, 36),\n",
       " (9, 5, 45),\n",
       " (9, 6, 54),\n",
       " (9, 7, 63),\n",
       " (9, 8, 72),\n",
       " (9, 9, 81)]"
      ]
     },
     "execution_count": 16,
     "metadata": {},
     "output_type": "execute_result"
    }
   ],
   "source": [
    "[(x, y, x*y) for x in range(2, 10) for y in range(1, 10)]"
   ]
  },
  {
   "cell_type": "markdown",
   "metadata": {},
   "source": [
    "## https://doorbw.tistory.com/174"
   ]
  },
  {
   "cell_type": "code",
   "execution_count": 17,
   "metadata": {},
   "outputs": [],
   "source": [
    "a = list('abcde')\n",
    "b = list('12345')"
   ]
  },
  {
   "cell_type": "code",
   "execution_count": 18,
   "metadata": {},
   "outputs": [
    {
     "data": {
      "text/plain": [
       "['a', 'b', 'c', 'd', 'e']"
      ]
     },
     "execution_count": 18,
     "metadata": {},
     "output_type": "execute_result"
    }
   ],
   "source": [
    "a"
   ]
  },
  {
   "cell_type": "code",
   "execution_count": 19,
   "metadata": {},
   "outputs": [
    {
     "data": {
      "text/plain": [
       "['1', '2', '3', '4', '5']"
      ]
     },
     "execution_count": 19,
     "metadata": {},
     "output_type": "execute_result"
    }
   ],
   "source": [
    "b"
   ]
  },
  {
   "cell_type": "code",
   "execution_count": 20,
   "metadata": {},
   "outputs": [
    {
     "name": "stdout",
     "output_type": "stream",
     "text": [
      "['a1', 'a2', 'a3', 'a4', 'a5', 'b1', 'b2', 'b3', 'b4', 'b5', 'c1', 'c2', 'c3', 'c4', 'c5', 'd1', 'd2', 'd3', 'd4', 'd5', 'e1', 'e2', 'e3', 'e4', 'e5']\n"
     ]
    }
   ],
   "source": [
    "c = [i+j for i in a for j in b]\n",
    "print(c)"
   ]
  },
  {
   "cell_type": "markdown",
   "metadata": {},
   "source": [
    "* 두 개의 조건문 사용하기"
   ]
  },
  {
   "cell_type": "code",
   "execution_count": 21,
   "metadata": {},
   "outputs": [
    {
     "data": {
      "text/plain": [
       "[0, 6, 12, 18, 24, 30, 36, 42, 48]"
      ]
     },
     "execution_count": 21,
     "metadata": {},
     "output_type": "execute_result"
    }
   ],
   "source": [
    "[i for i in range(50) if i%2 == 0 if i%3 == 0]"
   ]
  },
  {
   "cell_type": "markdown",
   "metadata": {},
   "source": [
    "* 삼항 연산식"
   ]
  },
  {
   "cell_type": "code",
   "execution_count": 22,
   "metadata": {},
   "outputs": [
    {
     "data": {
      "text/plain": [
       "'even'"
      ]
     },
     "execution_count": 22,
     "metadata": {},
     "output_type": "execute_result"
    }
   ],
   "source": [
    "i = 10\n",
    "x = 'even' if i%2 == 0 else 'odd' # 삼항 연산식\n",
    "x"
   ]
  },
  {
   "cell_type": "code",
   "execution_count": 23,
   "metadata": {},
   "outputs": [
    {
     "data": {
      "text/plain": [
       "['even', 'odd', 'even', 'odd', 'even', 'odd', 'even', 'odd', 'even', 'odd']"
      ]
     },
     "execution_count": 23,
     "metadata": {},
     "output_type": "execute_result"
    }
   ],
   "source": [
    "['even' if i%2 == 0 else 'odd' for i in range(10)]"
   ]
  },
  {
   "cell_type": "code",
   "execution_count": 24,
   "metadata": {},
   "outputs": [
    {
     "data": {
      "text/plain": [
       "'even'"
      ]
     },
     "execution_count": 24,
     "metadata": {},
     "output_type": "execute_result"
    }
   ],
   "source": [
    "x"
   ]
  },
  {
   "cell_type": "code",
   "execution_count": 25,
   "metadata": {},
   "outputs": [
    {
     "data": {
      "text/plain": [
       "['zero', 'odd', 'even', 'odd', 'even', 'odd', 'even', 'odd', 'even', 'odd']"
      ]
     },
     "execution_count": 25,
     "metadata": {},
     "output_type": "execute_result"
    }
   ],
   "source": [
    "['zero' if i== 0 else 'even' if i%2 == 0 else 'odd' for i in range(10)]"
   ]
  },
  {
   "cell_type": "code",
   "execution_count": 26,
   "metadata": {},
   "outputs": [
    {
     "data": {
      "text/plain": [
       "'zero'"
      ]
     },
     "execution_count": 26,
     "metadata": {},
     "output_type": "execute_result"
    }
   ],
   "source": [
    "i = 0\n",
    "s = 'zero' if i== 0 else 'even' if i%2 == 0 else 'odd' \n",
    "s"
   ]
  },
  {
   "cell_type": "markdown",
   "metadata": {},
   "source": [
    "# 제너레이터 연산식"
   ]
  },
  {
   "cell_type": "code",
   "execution_count": 27,
   "metadata": {},
   "outputs": [
    {
     "data": {
      "text/plain": [
       "<generator object <genexpr> at 0x000002275FC598C8>"
      ]
     },
     "execution_count": 27,
     "metadata": {},
     "output_type": "execute_result"
    }
   ],
   "source": [
    "a = (i+1000 for i in range(10))\n",
    "a"
   ]
  },
  {
   "cell_type": "code",
   "execution_count": 28,
   "metadata": {},
   "outputs": [
    {
     "data": {
      "text/plain": [
       "<generator object <genexpr> at 0x000002275FC598C8>"
      ]
     },
     "execution_count": 28,
     "metadata": {},
     "output_type": "execute_result"
    }
   ],
   "source": [
    "a"
   ]
  },
  {
   "cell_type": "code",
   "execution_count": 29,
   "metadata": {},
   "outputs": [
    {
     "data": {
      "text/plain": [
       "1000"
      ]
     },
     "execution_count": 29,
     "metadata": {},
     "output_type": "execute_result"
    }
   ],
   "source": [
    "next(a)"
   ]
  },
  {
   "cell_type": "code",
   "execution_count": 30,
   "metadata": {},
   "outputs": [
    {
     "data": {
      "text/plain": [
       "1001"
      ]
     },
     "execution_count": 30,
     "metadata": {},
     "output_type": "execute_result"
    }
   ],
   "source": [
    "next(a)"
   ]
  },
  {
   "cell_type": "code",
   "execution_count": 31,
   "metadata": {},
   "outputs": [
    {
     "data": {
      "text/plain": [
       "[1002, 1003, 1004, 1005, 1006, 1007, 1008, 1009]"
      ]
     },
     "execution_count": 31,
     "metadata": {},
     "output_type": "execute_result"
    }
   ],
   "source": [
    "list(a)"
   ]
  },
  {
   "cell_type": "code",
   "execution_count": 32,
   "metadata": {},
   "outputs": [
    {
     "data": {
      "text/plain": [
       "[]"
      ]
     },
     "execution_count": 32,
     "metadata": {},
     "output_type": "execute_result"
    }
   ],
   "source": [
    "list(a)"
   ]
  },
  {
   "cell_type": "markdown",
   "metadata": {},
   "source": [
    "## https://ddanggle.gitbooks.io/interpy-kr/ch15-comprehension.html"
   ]
  },
  {
   "cell_type": "code",
   "execution_count": 33,
   "metadata": {},
   "outputs": [
    {
     "data": {
      "text/plain": [
       "[2]"
      ]
     },
     "execution_count": 33,
     "metadata": {},
     "output_type": "execute_result"
    }
   ],
   "source": [
    "input_list = range(10)\n",
    "variable = [out_exp for out_exp in input_list if out_exp == 2]\n",
    "variable"
   ]
  },
  {
   "cell_type": "code",
   "execution_count": 34,
   "metadata": {},
   "outputs": [
    {
     "data": {
      "text/plain": [
       "[0, 3, 6, 9, 12, 15, 18, 21, 24, 27]"
      ]
     },
     "execution_count": 34,
     "metadata": {},
     "output_type": "execute_result"
    }
   ],
   "source": [
    "multiples = [i for i in range(30) if i % 3 is 0]\n",
    "multiples"
   ]
  },
  {
   "cell_type": "code",
   "execution_count": 35,
   "metadata": {},
   "outputs": [
    {
     "data": {
      "text/plain": [
       "[0, 3, 6, 9, 12, 15, 18, 21, 24, 27]"
      ]
     },
     "execution_count": 35,
     "metadata": {},
     "output_type": "execute_result"
    }
   ],
   "source": [
    "multiples"
   ]
  },
  {
   "cell_type": "markdown",
   "metadata": {},
   "source": [
    "* 사전 컴프리헨션"
   ]
  },
  {
   "cell_type": "code",
   "execution_count": 36,
   "metadata": {},
   "outputs": [
    {
     "data": {
      "text/plain": [
       "{'a': 10, 'b': 34, 'A': 7, 'Z': 3}"
      ]
     },
     "execution_count": 36,
     "metadata": {},
     "output_type": "execute_result"
    }
   ],
   "source": [
    "mcase = {'a': 10, 'b': 34, 'A':7, 'Z':3}\n",
    "mcase"
   ]
  },
  {
   "cell_type": "code",
   "execution_count": 37,
   "metadata": {},
   "outputs": [
    {
     "data": {
      "text/plain": [
       "{0: 10, 1: 11, 2: 12, 3: 13, 4: 14, 5: 15, 6: 16, 7: 17, 8: 18, 9: 19}"
      ]
     },
     "execution_count": 37,
     "metadata": {},
     "output_type": "execute_result"
    }
   ],
   "source": [
    "{i: k for i, k in enumerate(range(10, 10+10))}"
   ]
  },
  {
   "cell_type": "code",
   "execution_count": 38,
   "metadata": {},
   "outputs": [
    {
     "data": {
      "text/plain": [
       "{0: 97,\n",
       " 1: 98,\n",
       " 2: 99,\n",
       " 3: 100,\n",
       " 4: 101,\n",
       " 5: 102,\n",
       " 6: 103,\n",
       " 7: 104,\n",
       " 8: 105,\n",
       " 9: 106,\n",
       " 10: 107,\n",
       " 11: 108,\n",
       " 12: 109,\n",
       " 13: 110,\n",
       " 14: 111,\n",
       " 15: 112,\n",
       " 16: 113,\n",
       " 17: 114,\n",
       " 18: 115,\n",
       " 19: 116,\n",
       " 20: 117,\n",
       " 21: 118,\n",
       " 22: 119,\n",
       " 23: 120,\n",
       " 24: 121,\n",
       " 25: 122}"
      ]
     },
     "execution_count": 38,
     "metadata": {},
     "output_type": "execute_result"
    }
   ],
   "source": [
    "{i: k for i, k in enumerate(range(ord('a'), ord('a')+26))}"
   ]
  },
  {
   "cell_type": "code",
   "execution_count": 39,
   "metadata": {},
   "outputs": [
    {
     "data": {
      "text/plain": [
       "{0: 'a',\n",
       " 1: 'b',\n",
       " 2: 'c',\n",
       " 3: 'd',\n",
       " 4: 'e',\n",
       " 5: 'f',\n",
       " 6: 'g',\n",
       " 7: 'h',\n",
       " 8: 'i',\n",
       " 9: 'j',\n",
       " 10: 'k',\n",
       " 11: 'l',\n",
       " 12: 'm',\n",
       " 13: 'n',\n",
       " 14: 'o',\n",
       " 15: 'p',\n",
       " 16: 'q',\n",
       " 17: 'r',\n",
       " 18: 's',\n",
       " 19: 't',\n",
       " 20: 'u',\n",
       " 21: 'v',\n",
       " 22: 'w',\n",
       " 23: 'x',\n",
       " 24: 'y',\n",
       " 25: 'z'}"
      ]
     },
     "execution_count": 39,
     "metadata": {},
     "output_type": "execute_result"
    }
   ],
   "source": [
    "{i: chr(k) for i, k in enumerate(range(ord('a'), ord('a')+26))}"
   ]
  },
  {
   "cell_type": "code",
   "execution_count": 40,
   "metadata": {},
   "outputs": [
    {
     "data": {
      "text/plain": [
       "{'A': 'a',\n",
       " 'B': 'b',\n",
       " 'C': 'c',\n",
       " 'D': 'd',\n",
       " 'E': 'e',\n",
       " 'F': 'f',\n",
       " 'G': 'g',\n",
       " 'H': 'h',\n",
       " 'I': 'i',\n",
       " 'J': 'j',\n",
       " 'K': 'k',\n",
       " 'L': 'l',\n",
       " 'M': 'm',\n",
       " 'N': 'n',\n",
       " 'O': 'o',\n",
       " 'P': 'p',\n",
       " 'Q': 'q',\n",
       " 'R': 'r',\n",
       " 'S': 's',\n",
       " 'T': 't',\n",
       " 'U': 'u',\n",
       " 'V': 'v',\n",
       " 'W': 'w',\n",
       " 'X': 'x',\n",
       " 'Y': 'y',\n",
       " 'Z': 'z'}"
      ]
     },
     "execution_count": 40,
     "metadata": {},
     "output_type": "execute_result"
    }
   ],
   "source": [
    "{chr(i + ord('A')): chr(k) for i, k in enumerate(range(ord('a'), ord('a')+26))}"
   ]
  },
  {
   "cell_type": "code",
   "execution_count": 41,
   "metadata": {},
   "outputs": [
    {
     "data": {
      "text/plain": [
       "{'a': 10, 'b': 34, 'A': 7, 'Z': 3}"
      ]
     },
     "execution_count": 41,
     "metadata": {},
     "output_type": "execute_result"
    }
   ],
   "source": [
    "mcase = {'a': 10, 'b': 34, 'A':7, 'Z':3}\n",
    "mcase"
   ]
  },
  {
   "cell_type": "code",
   "execution_count": 42,
   "metadata": {},
   "outputs": [
    {
     "data": {
      "text/plain": [
       "['a', 'b', 'A', 'Z']"
      ]
     },
     "execution_count": 42,
     "metadata": {},
     "output_type": "execute_result"
    }
   ],
   "source": [
    "[ k for k in mcase.keys()]"
   ]
  },
  {
   "cell_type": "code",
   "execution_count": 43,
   "metadata": {},
   "outputs": [
    {
     "data": {
      "text/plain": [
       "{'a': 17, 'b': 34, 'z': 3}"
      ]
     },
     "execution_count": 43,
     "metadata": {},
     "output_type": "execute_result"
    }
   ],
   "source": [
    "{k.lower(): mcase.get(k.lower(), 0) + mcase.get(k.upper(), 0) for k in mcase.keys()}"
   ]
  },
  {
   "cell_type": "markdown",
   "metadata": {},
   "source": [
    "* 셋 컴프리헨션"
   ]
  },
  {
   "cell_type": "code",
   "execution_count": 44,
   "metadata": {},
   "outputs": [
    {
     "data": {
      "text/plain": [
       "{1, 4}"
      ]
     },
     "execution_count": 44,
     "metadata": {},
     "output_type": "execute_result"
    }
   ],
   "source": [
    "squared = {x**2 for x in [1, 1, 2]}\n",
    "squared"
   ]
  },
  {
   "cell_type": "markdown",
   "metadata": {},
   "source": [
    "## https://dojang.io/mod/page/view.php?id=2285"
   ]
  },
  {
   "cell_type": "code",
   "execution_count": 45,
   "metadata": {},
   "outputs": [
    {
     "data": {
      "text/plain": [
       "[0, 1, 2, 3, 4, 5, 6, 7, 8, 9]"
      ]
     },
     "execution_count": 45,
     "metadata": {},
     "output_type": "execute_result"
    }
   ],
   "source": [
    "a = [i for i in range(10)]        # 0부터 9까지 숫자를 생성하여 리스트 생성\n",
    "a"
   ]
  },
  {
   "cell_type": "code",
   "execution_count": 46,
   "metadata": {},
   "outputs": [
    {
     "data": {
      "text/plain": [
       "[0, 1, 2, 3, 4, 5, 6, 7, 8, 9]"
      ]
     },
     "execution_count": 46,
     "metadata": {},
     "output_type": "execute_result"
    }
   ],
   "source": [
    "b = list(i for i in range(10))    # 0부터 9까지 숫자를 생성하여 리스트 생성\n",
    "b"
   ]
  },
  {
   "cell_type": "code",
   "execution_count": 47,
   "metadata": {},
   "outputs": [
    {
     "data": {
      "text/plain": [
       "[6, 8, 10, 12, 14]"
      ]
     },
     "execution_count": 47,
     "metadata": {},
     "output_type": "execute_result"
    }
   ],
   "source": [
    "b = [i + 5 for i in range(10) if i % 2 == 1]    # 0~9 숫자 중 홀수에 5를 더하여 리스트 생성\n",
    "b"
   ]
  },
  {
   "cell_type": "code",
   "execution_count": 48,
   "metadata": {},
   "outputs": [
    {
     "data": {
      "text/plain": [
       "[2,\n",
       " 4,\n",
       " 6,\n",
       " 8,\n",
       " 10,\n",
       " 12,\n",
       " 14,\n",
       " 16,\n",
       " 18,\n",
       " 3,\n",
       " 6,\n",
       " 9,\n",
       " 12,\n",
       " 15,\n",
       " 18,\n",
       " 21,\n",
       " 24,\n",
       " 27,\n",
       " 4,\n",
       " 8,\n",
       " 12,\n",
       " 16,\n",
       " 20,\n",
       " 24,\n",
       " 28,\n",
       " 32,\n",
       " 36,\n",
       " 5,\n",
       " 10,\n",
       " 15,\n",
       " 20,\n",
       " 25,\n",
       " 30,\n",
       " 35,\n",
       " 40,\n",
       " 45,\n",
       " 6,\n",
       " 12,\n",
       " 18,\n",
       " 24,\n",
       " 30,\n",
       " 36,\n",
       " 42,\n",
       " 48,\n",
       " 54,\n",
       " 7,\n",
       " 14,\n",
       " 21,\n",
       " 28,\n",
       " 35,\n",
       " 42,\n",
       " 49,\n",
       " 56,\n",
       " 63,\n",
       " 8,\n",
       " 16,\n",
       " 24,\n",
       " 32,\n",
       " 40,\n",
       " 48,\n",
       " 56,\n",
       " 64,\n",
       " 72,\n",
       " 9,\n",
       " 18,\n",
       " 27,\n",
       " 36,\n",
       " 45,\n",
       " 54,\n",
       " 63,\n",
       " 72,\n",
       " 81]"
      ]
     },
     "execution_count": 48,
     "metadata": {},
     "output_type": "execute_result"
    }
   ],
   "source": [
    "a = [i * j for j in range(2, 10) for i in range(1, 10)]\n",
    "a"
   ]
  },
  {
   "cell_type": "code",
   "execution_count": 49,
   "metadata": {},
   "outputs": [],
   "source": [
    "a = [i * j for j in range(2, 10)\n",
    "           for i in range(1, 10)]"
   ]
  },
  {
   "cell_type": "code",
   "execution_count": 50,
   "metadata": {},
   "outputs": [
    {
     "data": {
      "text/plain": [
       "[2,\n",
       " 4,\n",
       " 6,\n",
       " 8,\n",
       " 10,\n",
       " 12,\n",
       " 14,\n",
       " 16,\n",
       " 18,\n",
       " 3,\n",
       " 6,\n",
       " 9,\n",
       " 12,\n",
       " 15,\n",
       " 18,\n",
       " 21,\n",
       " 24,\n",
       " 27,\n",
       " 4,\n",
       " 8,\n",
       " 12,\n",
       " 16,\n",
       " 20,\n",
       " 24,\n",
       " 28,\n",
       " 32,\n",
       " 36,\n",
       " 5,\n",
       " 10,\n",
       " 15,\n",
       " 20,\n",
       " 25,\n",
       " 30,\n",
       " 35,\n",
       " 40,\n",
       " 45,\n",
       " 6,\n",
       " 12,\n",
       " 18,\n",
       " 24,\n",
       " 30,\n",
       " 36,\n",
       " 42,\n",
       " 48,\n",
       " 54,\n",
       " 7,\n",
       " 14,\n",
       " 21,\n",
       " 28,\n",
       " 35,\n",
       " 42,\n",
       " 49,\n",
       " 56,\n",
       " 63,\n",
       " 8,\n",
       " 16,\n",
       " 24,\n",
       " 32,\n",
       " 40,\n",
       " 48,\n",
       " 56,\n",
       " 64,\n",
       " 72,\n",
       " 9,\n",
       " 18,\n",
       " 27,\n",
       " 36,\n",
       " 45,\n",
       " 54,\n",
       " 63,\n",
       " 72,\n",
       " 81]"
      ]
     },
     "execution_count": 50,
     "metadata": {},
     "output_type": "execute_result"
    }
   ],
   "source": [
    "a"
   ]
  },
  {
   "cell_type": "markdown",
   "metadata": {},
   "source": [
    "## https://realpython.com/list-comprehension-python/"
   ]
  },
  {
   "cell_type": "code",
   "execution_count": 51,
   "metadata": {},
   "outputs": [
    {
     "data": {
      "text/plain": [
       "[0, 1, 4, 9, 16, 25, 36, 49, 64, 81]"
      ]
     },
     "execution_count": 51,
     "metadata": {},
     "output_type": "execute_result"
    }
   ],
   "source": [
    "[i*i for i in range(10)]"
   ]
  },
  {
   "cell_type": "markdown",
   "metadata": {},
   "source": [
    "* map() 객체 사용"
   ]
  },
  {
   "cell_type": "code",
   "execution_count": 52,
   "metadata": {},
   "outputs": [],
   "source": [
    "txns = [1.09, 23.56, 57.84, 4.56, 6.78]\n",
    "TAX_RATE = .08\n",
    "\n",
    "def get_price_with_tax(txn):\n",
    "    return txn * (1 + TAX_RATE)"
   ]
  },
  {
   "cell_type": "code",
   "execution_count": 53,
   "metadata": {},
   "outputs": [
    {
     "data": {
      "text/plain": [
       "[1.09, 23.56, 57.84, 4.56, 6.78]"
      ]
     },
     "execution_count": 53,
     "metadata": {},
     "output_type": "execute_result"
    }
   ],
   "source": [
    "txns"
   ]
  },
  {
   "cell_type": "code",
   "execution_count": 54,
   "metadata": {},
   "outputs": [
    {
     "data": {
      "text/plain": [
       "<map at 0x2275fc96548>"
      ]
     },
     "execution_count": 54,
     "metadata": {},
     "output_type": "execute_result"
    }
   ],
   "source": [
    "final_prices = map(get_price_with_tax, txns)\n",
    "final_prices"
   ]
  },
  {
   "cell_type": "code",
   "execution_count": 55,
   "metadata": {},
   "outputs": [
    {
     "data": {
      "text/plain": [
       "[1.1772000000000002, 25.4448, 62.467200000000005, 4.9248, 7.322400000000001]"
      ]
     },
     "execution_count": 55,
     "metadata": {},
     "output_type": "execute_result"
    }
   ],
   "source": [
    "list(final_prices)"
   ]
  },
  {
   "cell_type": "code",
   "execution_count": 56,
   "metadata": {},
   "outputs": [
    {
     "data": {
      "text/plain": [
       "[1.1772000000000002, 25.4448, 62.467200000000005, 4.9248, 7.322400000000001]"
      ]
     },
     "execution_count": 56,
     "metadata": {},
     "output_type": "execute_result"
    }
   ],
   "source": [
    "final_prices = [get_price_with_tax(i) for i in txns]\n",
    "final_prices"
   ]
  },
  {
   "cell_type": "code",
   "execution_count": 57,
   "metadata": {},
   "outputs": [
    {
     "data": {
      "text/plain": [
       "['e', 'o', 'e', 'a', 'e', 'a', 'o', 'a']"
      ]
     },
     "execution_count": 57,
     "metadata": {},
     "output_type": "execute_result"
    }
   ],
   "source": [
    "sentence = 'the rocket came back from mars'\n",
    "vowels = [i for i in sentence if i in 'aeiou']\n",
    "vowels"
   ]
  },
  {
   "cell_type": "code",
   "execution_count": 58,
   "metadata": {},
   "outputs": [
    {
     "data": {
      "text/plain": [
       "['T',\n",
       " 'h',\n",
       " 'r',\n",
       " 'c',\n",
       " 'k',\n",
       " 't',\n",
       " 'w',\n",
       " 'h',\n",
       " 'w',\n",
       " 's',\n",
       " 'n',\n",
       " 'm',\n",
       " 'd',\n",
       " 'T',\n",
       " 'd',\n",
       " 'c',\n",
       " 'm',\n",
       " 'b',\n",
       " 'c',\n",
       " 'k',\n",
       " 'f',\n",
       " 'r',\n",
       " 'm',\n",
       " 'M',\n",
       " 'r',\n",
       " 's',\n",
       " 'b',\n",
       " 'c',\n",
       " 's',\n",
       " 'h',\n",
       " 'm',\n",
       " 's',\n",
       " 's',\n",
       " 'd',\n",
       " 'h',\n",
       " 's',\n",
       " 'f',\n",
       " 'r',\n",
       " 'n',\n",
       " 'd',\n",
       " 's']"
      ]
     },
     "execution_count": 58,
     "metadata": {},
     "output_type": "execute_result"
    }
   ],
   "source": [
    "sentence = 'The rocket, who was named Ted, came back from Mars because he missed his friends.'\n",
    "\n",
    "def is_consonant(letter):\n",
    "    vowels = 'aeiou'\n",
    "    return letter.isalpha() and letter.lower() not in vowels\n",
    "\n",
    "consonants = [i for i in sentence if is_consonant(i)]\n",
    "consonants"
   ]
  },
  {
   "cell_type": "code",
   "execution_count": 2,
   "metadata": {},
   "outputs": [
    {
     "data": {
      "text/plain": [
       "[0, 3, 6, 9, 12, 15, 18]"
      ]
     },
     "execution_count": 2,
     "metadata": {},
     "output_type": "execute_result"
    }
   ],
   "source": [
    "a = [i for i in range(20) if i%3==0]\n",
    "a"
   ]
  },
  {
   "cell_type": "code",
   "execution_count": 60,
   "metadata": {},
   "outputs": [
    {
     "ename": "SyntaxError",
     "evalue": "invalid syntax (<ipython-input-60-7c91321cab57>, line 1)",
     "output_type": "error",
     "traceback": [
      "\u001b[1;36m  File \u001b[1;32m\"<ipython-input-60-7c91321cab57>\"\u001b[1;36m, line \u001b[1;32m1\u001b[0m\n\u001b[1;33m    a = [i if i%3==0 for i in range(20)]\u001b[0m\n\u001b[1;37m                       ^\u001b[0m\n\u001b[1;31mSyntaxError\u001b[0m\u001b[1;31m:\u001b[0m invalid syntax\n"
     ]
    }
   ],
   "source": [
    "a = [i if i%3==0 for i in range(20)]"
   ]
  },
  {
   "cell_type": "code",
   "execution_count": 61,
   "metadata": {},
   "outputs": [
    {
     "data": {
      "text/plain": [
       "[0,\n",
       " 'pass',\n",
       " 'pass',\n",
       " 3,\n",
       " 'pass',\n",
       " 'pass',\n",
       " 6,\n",
       " 'pass',\n",
       " 'pass',\n",
       " 9,\n",
       " 'pass',\n",
       " 'pass',\n",
       " 12,\n",
       " 'pass',\n",
       " 'pass',\n",
       " 15,\n",
       " 'pass',\n",
       " 'pass',\n",
       " 18,\n",
       " 'pass']"
      ]
     },
     "execution_count": 61,
     "metadata": {},
     "output_type": "execute_result"
    }
   ],
   "source": [
    "a = [i if i%3==0 else 'pass' for i in range(20)]\n",
    "a"
   ]
  },
  {
   "cell_type": "code",
   "execution_count": 62,
   "metadata": {},
   "outputs": [
    {
     "data": {
      "text/plain": [
       "[1.25, 0, 10.22, 3.78, 0, 1.16]"
      ]
     },
     "execution_count": 62,
     "metadata": {},
     "output_type": "execute_result"
    }
   ],
   "source": [
    "original_prices = [1.25, -9.45, 10.22, 3.78, -5.92, 1.16]\n",
    "prices = [i if i > 0 else 0 for i in original_prices]\n",
    "prices"
   ]
  },
  {
   "cell_type": "code",
   "execution_count": 63,
   "metadata": {},
   "outputs": [
    {
     "data": {
      "text/plain": [
       "[1.25, 0, 10.22, 3.78, 0, 1.16]"
      ]
     },
     "execution_count": 63,
     "metadata": {},
     "output_type": "execute_result"
    }
   ],
   "source": [
    "def get_price(price):\n",
    "     return price if price > 0 else 0\n",
    "\n",
    "prices = [get_price(i) for i in original_prices]\n",
    "prices"
   ]
  },
  {
   "cell_type": "markdown",
   "metadata": {},
   "source": [
    "* 집합과 사전의 내포"
   ]
  },
  {
   "cell_type": "code",
   "execution_count": 64,
   "metadata": {},
   "outputs": [
    {
     "data": {
      "text/plain": [
       "{'a', 'e', 'i', 'u'}"
      ]
     },
     "execution_count": 64,
     "metadata": {},
     "output_type": "execute_result"
    }
   ],
   "source": [
    "quote = \"life, uh, finds a way\"\n",
    "unique_vowels = {i for i in quote if i in 'aeiou'}\n",
    "unique_vowels"
   ]
  },
  {
   "cell_type": "code",
   "execution_count": 65,
   "metadata": {},
   "outputs": [
    {
     "data": {
      "text/plain": [
       "{0: 0, 1: 1, 2: 4, 3: 9, 4: 16, 5: 25, 6: 36, 7: 49, 8: 64, 9: 81}"
      ]
     },
     "execution_count": 65,
     "metadata": {},
     "output_type": "execute_result"
    }
   ],
   "source": [
    "squares = {i: i * i for i in range(10)}\n",
    "squares"
   ]
  },
  {
   "cell_type": "code",
   "execution_count": 3,
   "metadata": {},
   "outputs": [
    {
     "ename": "SyntaxError",
     "evalue": "invalid syntax (<ipython-input-3-8b95099635ed>, line 5)",
     "output_type": "error",
     "traceback": [
      "\u001b[1;36m  File \u001b[1;32m\"<ipython-input-3-8b95099635ed>\"\u001b[1;36m, line \u001b[1;32m5\u001b[0m\n\u001b[1;33m    hot_temps = [temp for _ in range(20) if (temp = get_weather_data()) >= 100]\u001b[0m\n\u001b[1;37m                                                  ^\u001b[0m\n\u001b[1;31mSyntaxError\u001b[0m\u001b[1;31m:\u001b[0m invalid syntax\n"
     ]
    }
   ],
   "source": [
    "import random\n",
    "def get_weather_data():\n",
    "     return random.randrange(90, 110)\n",
    "\n",
    "hot_temps = [temp for _ in range(20) if (temp := get_weather_data()) >= 100]\n",
    "hot_temps"
   ]
  },
  {
   "cell_type": "code",
   "execution_count": 67,
   "metadata": {},
   "outputs": [
    {
     "data": {
      "text/plain": [
       "'3.7.6 (default, Jan  8 2020, 20:23:39) [MSC v.1916 64 bit (AMD64)]'"
      ]
     },
     "execution_count": 67,
     "metadata": {},
     "output_type": "execute_result"
    }
   ],
   "source": [
    "import sys\n",
    "sys.version"
   ]
  },
  {
   "cell_type": "code",
   "execution_count": 68,
   "metadata": {},
   "outputs": [
    {
     "data": {
      "text/plain": [
       "{'Austin': [0, 0, 0, 0, 0, 0, 0],\n",
       " 'Tacoma': [0, 0, 0, 0, 0, 0, 0],\n",
       " 'Topeka': [0, 0, 0, 0, 0, 0, 0],\n",
       " 'Sacramento': [0, 0, 0, 0, 0, 0, 0],\n",
       " 'Charlotte': [0, 0, 0, 0, 0, 0, 0]}"
      ]
     },
     "execution_count": 68,
     "metadata": {},
     "output_type": "execute_result"
    }
   ],
   "source": [
    "cities = ['Austin', 'Tacoma', 'Topeka', 'Sacramento', 'Charlotte']\n",
    "temps = {city: [0 for _ in range(7)] for city in cities}\n",
    "temps"
   ]
  },
  {
   "cell_type": "code",
   "execution_count": 69,
   "metadata": {},
   "outputs": [
    {
     "data": {
      "text/plain": [
       "[[0, 1, 2, 3, 4],\n",
       " [0, 1, 2, 3, 4],\n",
       " [0, 1, 2, 3, 4],\n",
       " [0, 1, 2, 3, 4],\n",
       " [0, 1, 2, 3, 4],\n",
       " [0, 1, 2, 3, 4]]"
      ]
     },
     "execution_count": 69,
     "metadata": {},
     "output_type": "execute_result"
    }
   ],
   "source": [
    "matrix = [[i for i in range(5)] for _ in range(6)]\n",
    "matrix"
   ]
  },
  {
   "cell_type": "code",
   "execution_count": 70,
   "metadata": {},
   "outputs": [
    {
     "data": {
      "text/plain": [
       "[[0, 1, 2, 3, 4],\n",
       " [1, 2, 3, 4, 5],\n",
       " [2, 3, 4, 5, 6],\n",
       " [3, 4, 5, 6, 7],\n",
       " [4, 5, 6, 7, 8],\n",
       " [5, 6, 7, 8, 9]]"
      ]
     },
     "execution_count": 70,
     "metadata": {},
     "output_type": "execute_result"
    }
   ],
   "source": [
    "matrix = [[i for i in range(j, j+5)] for j in range(6)]\n",
    "matrix"
   ]
  },
  {
   "cell_type": "code",
   "execution_count": 71,
   "metadata": {},
   "outputs": [
    {
     "data": {
      "text/plain": [
       "[[0, 1, 2, 3, 4],\n",
       " [5, 6, 7, 8, 9],\n",
       " [10, 11, 12, 13, 14],\n",
       " [15, 16, 17, 18, 19],\n",
       " [20, 21, 22, 23, 24],\n",
       " [25, 26, 27, 28, 29]]"
      ]
     },
     "execution_count": 71,
     "metadata": {},
     "output_type": "execute_result"
    }
   ],
   "source": [
    "matrix = [[i for i in range(j, j+5)] for j in range(0, 30, 5)]\n",
    "matrix"
   ]
  },
  {
   "cell_type": "code",
   "execution_count": 72,
   "metadata": {},
   "outputs": [
    {
     "data": {
      "text/plain": [
       "[0, 0, 0, 1, 1, 1, 2, 2, 2]"
      ]
     },
     "execution_count": 72,
     "metadata": {},
     "output_type": "execute_result"
    }
   ],
   "source": [
    "matrix = [\n",
    "    [0, 0, 0],\n",
    "    [1, 1, 1],\n",
    "    [2, 2, 2],\n",
    "]\n",
    "flat = [num for row in matrix for num in row]\n",
    "flat"
   ]
  },
  {
   "cell_type": "code",
   "execution_count": 73,
   "metadata": {},
   "outputs": [
    {
     "data": {
      "text/plain": [
       "[0, 0, 0, 1, 1, 1, 2, 2, 2]"
      ]
     },
     "execution_count": 73,
     "metadata": {},
     "output_type": "execute_result"
    }
   ],
   "source": [
    "matrix = [[0, 0, 0],[1, 1, 1],[2, 2, 2]]\n",
    "\n",
    "flat = []\n",
    "for row in matrix:\n",
    "    for num in row:\n",
    "        flat.append(num)\n",
    "\n",
    "flat"
   ]
  },
  {
   "cell_type": "code",
   "execution_count": 4,
   "metadata": {},
   "outputs": [
    {
     "data": {
      "text/plain": [
       "332833500"
      ]
     },
     "execution_count": 4,
     "metadata": {},
     "output_type": "execute_result"
    }
   ],
   "source": [
    "sum([i * i for i in range(1000)])"
   ]
  },
  {
   "cell_type": "code",
   "execution_count": 9,
   "metadata": {},
   "outputs": [
    {
     "data": {
      "text/plain": [
       "<generator object <genexpr> at 0x000002B89DCB81C8>"
      ]
     },
     "execution_count": 9,
     "metadata": {},
     "output_type": "execute_result"
    }
   ],
   "source": [
    "(i * i for i in range(1000))"
   ]
  },
  {
   "cell_type": "code",
   "execution_count": 7,
   "metadata": {},
   "outputs": [
    {
     "data": {
      "text/plain": [
       "332833500"
      ]
     },
     "execution_count": 7,
     "metadata": {},
     "output_type": "execute_result"
    }
   ],
   "source": [
    "sum(i * i for i in range(1000))"
   ]
  },
  {
   "cell_type": "code",
   "execution_count": 12,
   "metadata": {},
   "outputs": [
    {
     "data": {
      "text/plain": [
       "333333328333333350000000"
      ]
     },
     "execution_count": 12,
     "metadata": {},
     "output_type": "execute_result"
    }
   ],
   "source": [
    "sum(i * i for i in range(100000000))"
   ]
  },
  {
   "cell_type": "code",
   "execution_count": 13,
   "metadata": {},
   "outputs": [
    {
     "data": {
      "text/plain": [
       "333333328333333350000000"
      ]
     },
     "execution_count": 13,
     "metadata": {},
     "output_type": "execute_result"
    }
   ],
   "source": [
    "sum([i * i for i in range(100000000)])"
   ]
  },
  {
   "cell_type": "code",
   "execution_count": 77,
   "metadata": {},
   "outputs": [
    {
     "data": {
      "text/plain": [
       "333333332833333333500000000"
      ]
     },
     "execution_count": 77,
     "metadata": {},
     "output_type": "execute_result"
    }
   ],
   "source": [
    "sum(map(lambda i: i*i, range(1000000000)))"
   ]
  },
  {
   "cell_type": "code",
   "execution_count": 78,
   "metadata": {},
   "outputs": [
    {
     "data": {
      "text/plain": [
       "1.2543123000000094"
      ]
     },
     "execution_count": 78,
     "metadata": {},
     "output_type": "execute_result"
    }
   ],
   "source": [
    "import random\n",
    "import timeit\n",
    "TAX_RATE = .08\n",
    "txns = [random.randrange(100) for _ in range(100000)]\n",
    "\n",
    "def get_price(txn):\n",
    "    return txn * (1 + TAX_RATE)\n",
    "\n",
    "def get_prices_with_map():\n",
    "    return list(map(get_price, txns))\n",
    "\n",
    "def get_prices_with_comprehension():\n",
    "    return [get_price(txn) for txn in txns]\n",
    "\n",
    "def get_prices_with_loop():\n",
    "    prices = []\n",
    "    for txn in txns:\n",
    "        prices.append(get_price(txn))\n",
    "    return prices\n",
    "\n",
    "timeit.timeit(get_prices_with_map, number=100)"
   ]
  },
  {
   "cell_type": "code",
   "execution_count": 79,
   "metadata": {},
   "outputs": [
    {
     "data": {
      "text/plain": [
       "1.3858580000000131"
      ]
     },
     "execution_count": 79,
     "metadata": {},
     "output_type": "execute_result"
    }
   ],
   "source": [
    "timeit.timeit(get_prices_with_comprehension, number=100)"
   ]
  },
  {
   "cell_type": "code",
   "execution_count": 80,
   "metadata": {},
   "outputs": [
    {
     "data": {
      "text/plain": [
       "1.7145849000000055"
      ]
     },
     "execution_count": 80,
     "metadata": {},
     "output_type": "execute_result"
    }
   ],
   "source": [
    "timeit.timeit(get_prices_with_loop, number=100)"
   ]
  },
  {
   "cell_type": "code",
   "execution_count": null,
   "metadata": {},
   "outputs": [],
   "source": []
  }
 ],
 "metadata": {
  "kernelspec": {
   "display_name": "Python 3",
   "language": "python",
   "name": "python3"
  },
  "language_info": {
   "codemirror_mode": {
    "name": "ipython",
    "version": 3
   },
   "file_extension": ".py",
   "mimetype": "text/x-python",
   "name": "python",
   "nbconvert_exporter": "python",
   "pygments_lexer": "ipython3",
<<<<<<< HEAD
   "version": "3.7.6"
=======
   "version": "3.8.3"
>>>>>>> 3ab961d799b1a14d1c1626af3f5702d555fe9fb7
  }
 },
 "nbformat": 4,
 "nbformat_minor": 4
}
